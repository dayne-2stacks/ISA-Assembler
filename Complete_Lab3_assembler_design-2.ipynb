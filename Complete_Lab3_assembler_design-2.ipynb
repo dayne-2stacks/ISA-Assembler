{
  "cells": [
    {
      "cell_type": "markdown",
      "metadata": {
        "id": "72nnTdLgv8qX"
      },
      "source": [
        "# **Lab 03** - ISA Assembler Design (Part 1)\n",
        "In this lab, you will be desgning an assembler to **pre-process** an assembly code.\n",
        "\n",
        "**TODO**\n",
        "* Pre-process assembly code ('example.asm') by completing Tasks 1 - 8\n",
        "* Save the pre-processed code to a '.txt' file (Task 9)\n",
        "\n",
        "_Note:_ Some portions of the code have already been implemented for you such as reading the assembly code file, converting the register names to their equivalent values and printing the processed instructions and labels. Also, assume that inputs for a task are outputs from the previous task."
      ]
    },
    {
      "cell_type": "code",
      "source": [
        "from google.colab import files\n",
        "\n",
        "files.upload()\n"
      ],
      "metadata": {
        "colab": {
          "base_uri": "https://localhost:8080/",
          "height": 209
        },
        "id": "slTfl_8Xv9k4",
        "outputId": "d0d992d6-1109-4a39-dd9e-fa304c56ede6"
      },
      "execution_count": null,
      "outputs": [
        {
          "output_type": "display_data",
          "data": {
            "text/plain": [
              "<IPython.core.display.HTML object>"
            ],
            "text/html": [
              "\n",
              "     <input type=\"file\" id=\"files-f20fae86-dbdb-4a4f-bb33-c11e1566ae61\" name=\"files[]\" multiple disabled\n",
              "        style=\"border:none\" />\n",
              "     <output id=\"result-f20fae86-dbdb-4a4f-bb33-c11e1566ae61\">\n",
              "      Upload widget is only available when the cell has been executed in the\n",
              "      current browser session. Please rerun this cell to enable.\n",
              "      </output>\n",
              "      <script>// Copyright 2017 Google LLC\n",
              "//\n",
              "// Licensed under the Apache License, Version 2.0 (the \"License\");\n",
              "// you may not use this file except in compliance with the License.\n",
              "// You may obtain a copy of the License at\n",
              "//\n",
              "//      http://www.apache.org/licenses/LICENSE-2.0\n",
              "//\n",
              "// Unless required by applicable law or agreed to in writing, software\n",
              "// distributed under the License is distributed on an \"AS IS\" BASIS,\n",
              "// WITHOUT WARRANTIES OR CONDITIONS OF ANY KIND, either express or implied.\n",
              "// See the License for the specific language governing permissions and\n",
              "// limitations under the License.\n",
              "\n",
              "/**\n",
              " * @fileoverview Helpers for google.colab Python module.\n",
              " */\n",
              "(function(scope) {\n",
              "function span(text, styleAttributes = {}) {\n",
              "  const element = document.createElement('span');\n",
              "  element.textContent = text;\n",
              "  for (const key of Object.keys(styleAttributes)) {\n",
              "    element.style[key] = styleAttributes[key];\n",
              "  }\n",
              "  return element;\n",
              "}\n",
              "\n",
              "// Max number of bytes which will be uploaded at a time.\n",
              "const MAX_PAYLOAD_SIZE = 100 * 1024;\n",
              "\n",
              "function _uploadFiles(inputId, outputId) {\n",
              "  const steps = uploadFilesStep(inputId, outputId);\n",
              "  const outputElement = document.getElementById(outputId);\n",
              "  // Cache steps on the outputElement to make it available for the next call\n",
              "  // to uploadFilesContinue from Python.\n",
              "  outputElement.steps = steps;\n",
              "\n",
              "  return _uploadFilesContinue(outputId);\n",
              "}\n",
              "\n",
              "// This is roughly an async generator (not supported in the browser yet),\n",
              "// where there are multiple asynchronous steps and the Python side is going\n",
              "// to poll for completion of each step.\n",
              "// This uses a Promise to block the python side on completion of each step,\n",
              "// then passes the result of the previous step as the input to the next step.\n",
              "function _uploadFilesContinue(outputId) {\n",
              "  const outputElement = document.getElementById(outputId);\n",
              "  const steps = outputElement.steps;\n",
              "\n",
              "  const next = steps.next(outputElement.lastPromiseValue);\n",
              "  return Promise.resolve(next.value.promise).then((value) => {\n",
              "    // Cache the last promise value to make it available to the next\n",
              "    // step of the generator.\n",
              "    outputElement.lastPromiseValue = value;\n",
              "    return next.value.response;\n",
              "  });\n",
              "}\n",
              "\n",
              "/**\n",
              " * Generator function which is called between each async step of the upload\n",
              " * process.\n",
              " * @param {string} inputId Element ID of the input file picker element.\n",
              " * @param {string} outputId Element ID of the output display.\n",
              " * @return {!Iterable<!Object>} Iterable of next steps.\n",
              " */\n",
              "function* uploadFilesStep(inputId, outputId) {\n",
              "  const inputElement = document.getElementById(inputId);\n",
              "  inputElement.disabled = false;\n",
              "\n",
              "  const outputElement = document.getElementById(outputId);\n",
              "  outputElement.innerHTML = '';\n",
              "\n",
              "  const pickedPromise = new Promise((resolve) => {\n",
              "    inputElement.addEventListener('change', (e) => {\n",
              "      resolve(e.target.files);\n",
              "    });\n",
              "  });\n",
              "\n",
              "  const cancel = document.createElement('button');\n",
              "  inputElement.parentElement.appendChild(cancel);\n",
              "  cancel.textContent = 'Cancel upload';\n",
              "  const cancelPromise = new Promise((resolve) => {\n",
              "    cancel.onclick = () => {\n",
              "      resolve(null);\n",
              "    };\n",
              "  });\n",
              "\n",
              "  // Wait for the user to pick the files.\n",
              "  const files = yield {\n",
              "    promise: Promise.race([pickedPromise, cancelPromise]),\n",
              "    response: {\n",
              "      action: 'starting',\n",
              "    }\n",
              "  };\n",
              "\n",
              "  cancel.remove();\n",
              "\n",
              "  // Disable the input element since further picks are not allowed.\n",
              "  inputElement.disabled = true;\n",
              "\n",
              "  if (!files) {\n",
              "    return {\n",
              "      response: {\n",
              "        action: 'complete',\n",
              "      }\n",
              "    };\n",
              "  }\n",
              "\n",
              "  for (const file of files) {\n",
              "    const li = document.createElement('li');\n",
              "    li.append(span(file.name, {fontWeight: 'bold'}));\n",
              "    li.append(span(\n",
              "        `(${file.type || 'n/a'}) - ${file.size} bytes, ` +\n",
              "        `last modified: ${\n",
              "            file.lastModifiedDate ? file.lastModifiedDate.toLocaleDateString() :\n",
              "                                    'n/a'} - `));\n",
              "    const percent = span('0% done');\n",
              "    li.appendChild(percent);\n",
              "\n",
              "    outputElement.appendChild(li);\n",
              "\n",
              "    const fileDataPromise = new Promise((resolve) => {\n",
              "      const reader = new FileReader();\n",
              "      reader.onload = (e) => {\n",
              "        resolve(e.target.result);\n",
              "      };\n",
              "      reader.readAsArrayBuffer(file);\n",
              "    });\n",
              "    // Wait for the data to be ready.\n",
              "    let fileData = yield {\n",
              "      promise: fileDataPromise,\n",
              "      response: {\n",
              "        action: 'continue',\n",
              "      }\n",
              "    };\n",
              "\n",
              "    // Use a chunked sending to avoid message size limits. See b/62115660.\n",
              "    let position = 0;\n",
              "    do {\n",
              "      const length = Math.min(fileData.byteLength - position, MAX_PAYLOAD_SIZE);\n",
              "      const chunk = new Uint8Array(fileData, position, length);\n",
              "      position += length;\n",
              "\n",
              "      const base64 = btoa(String.fromCharCode.apply(null, chunk));\n",
              "      yield {\n",
              "        response: {\n",
              "          action: 'append',\n",
              "          file: file.name,\n",
              "          data: base64,\n",
              "        },\n",
              "      };\n",
              "\n",
              "      let percentDone = fileData.byteLength === 0 ?\n",
              "          100 :\n",
              "          Math.round((position / fileData.byteLength) * 100);\n",
              "      percent.textContent = `${percentDone}% done`;\n",
              "\n",
              "    } while (position < fileData.byteLength);\n",
              "  }\n",
              "\n",
              "  // All done.\n",
              "  yield {\n",
              "    response: {\n",
              "      action: 'complete',\n",
              "    }\n",
              "  };\n",
              "}\n",
              "\n",
              "scope.google = scope.google || {};\n",
              "scope.google.colab = scope.google.colab || {};\n",
              "scope.google.colab._files = {\n",
              "  _uploadFiles,\n",
              "  _uploadFilesContinue,\n",
              "};\n",
              "})(self);\n",
              "</script> "
            ]
          },
          "metadata": {}
        },
        {
          "output_type": "stream",
          "name": "stdout",
          "text": [
            "Saving example.asm to example.asm\n"
          ]
        },
        {
          "output_type": "execute_result",
          "data": {
            "text/plain": [
              "{'example.asm': b'# Implement a RISC-V program to multiply two numbers using loop adder\\r\\nmain:\\r\\n    lw   t3, 0(s1)\\r\\n    addi a0, zero, 550   # load first operand\\r\\n    addi a1, zero, 20    # load second operand\\r\\n    addi t0, zero, 0   \\r\\n    beq  a0, zero, done  # if the first operand is equal to 0, then goto done\\r\\n    beq  a1, zero, done  # if the second operand is equal to 0, then goto done\\r\\nloop:\\r\\n    add  t0, a0, t0      \\r\\n    addi a1, a1, -1\\r\\n    bne  a1, zero, loop\\r\\ndone:\\r\\n    add  a0, t0, zero\\r\\n    sw   a0, 0(s1)\\r\\n'}"
            ]
          },
          "metadata": {},
          "execution_count": 1
        }
      ]
    },
    {
      "cell_type": "markdown",
      "source": [
        "lw 7 9 0\n",
        "addi 10 0 10\n",
        "addi 11 0 20\n",
        "bge 10 11 12\n",
        "add 12 11 0\n",
        "jal 1 12\n",
        "add 12 10 0\n",
        "jal 1 4\n",
        "sw 9 10 0\n"
      ],
      "metadata": {
        "id": "Tw_u4SN_BuaO"
      }
    },
    {
      "cell_type": "code",
      "execution_count": null,
      "metadata": {
        "trusted": true,
        "colab": {
          "base_uri": "https://localhost:8080/"
        },
        "id": "J-nij3H4v8qc",
        "outputId": "91fb40d3-2626-49a9-9d4c-65c439e93db6"
      },
      "outputs": [
        {
          "output_type": "stream",
          "name": "stdout",
          "text": [
            "Assembly Instructions:\n",
            "# Implement a RISC-V program to multiply two numbers using loop adder\n",
            "\n",
            "main:\n",
            "\n",
            "    lw   t3, 0(s1)\n",
            "\n",
            "    addi a0, zero, 550   # load first operand\n",
            "\n",
            "    addi a1, zero, 20    # load second operand\n",
            "\n",
            "    addi t0, zero, 0   \n",
            "\n",
            "    beq  a0, zero, done  # if the first operand is equal to 0, then goto done\n",
            "\n",
            "    beq  a1, zero, done  # if the second operand is equal to 0, then goto done\n",
            "\n",
            "loop:\n",
            "\n",
            "    add  t0, a0, t0      \n",
            "\n",
            "    addi a1, a1, -1\n",
            "\n",
            "    bne  a1, zero, loop\n",
            "\n",
            "done:\n",
            "\n",
            "    add  a0, t0, zero\n",
            "\n",
            "    sw   a0, 0(s1)\n",
            "\n"
          ]
        }
      ],
      "source": [
        "import re\n",
        "import csv\n",
        "\n",
        "## Function to read the assembly code file ##\n",
        "def read(filename):\n",
        "    '''read each line from a file'''\n",
        "    asm_inst = list()\n",
        "    with open(filename, 'r') as f:\n",
        "        for line in f:\n",
        "            asm_inst.append(line)\n",
        "    return asm_inst\n",
        "\n",
        "## Function to get the equivalent register's value\n",
        "def get_reg_value(reg_name):\n",
        "    '''gets the equivalen value for the respective register name'''\n",
        "    reg_abi = {\"zero\": 0,\"ra\": 1,\"sp\": 2,\"gp\": 3,\"tp\": 4,\"t0\": 5,\"t1\": 6,\"t2\": 7,\n",
        "               \"s0\": 8,\"s1\": 9,\"a0\": 10,\"a1\": 11,\"a2\": 12,\"a3\": 13,\"a4\": 14,\"a5\": 15,\n",
        "               \"a6\": 16,\"a7\": 17,\"s2\": 18,\"s3\": 19,\"s4\": 20,\"s5\": 21,\"s6\": 22,\"s7\": 23,\n",
        "               \"s8\": 24,\"s9\": 25,\"s10\": 26,\"s11\": 27,\"t3\": 28,\"t4\": 29,\"t5\": 30,\"t6\": 31}\n",
        "    if reg_name[0].lower() in 'x':\n",
        "        return int(reg_name[1:])\n",
        "    elif reg_name in reg_abi:\n",
        "        return reg_abi[reg_name]\n",
        "    elif reg_name.isdecimal():\n",
        "        return int(reg_name)\n",
        "    else:\n",
        "        raise ValueError(f\"Invalid register name/value: {reg_name}\")\n",
        "\n",
        "\n",
        "## FOR TESTING: Function to print the instructions\n",
        "def print_asm_inst(inst_asm):\n",
        "    '''prints list of instructions'''\n",
        "    print(\"Assembly Instructions:\")\n",
        "    if len(inst_asm) == 0:\n",
        "        print(None)\n",
        "    else:\n",
        "        for line in inst_asm:\n",
        "            print(line)\n",
        "\n",
        "## ## FOR TESTING: Function to print the labels\n",
        "def print_asm_labels(labels):\n",
        "    '''prints list of labels'''\n",
        "    print(\"Assembly Labels:\")\n",
        "    if len(labels) == 0:\n",
        "        print(None)\n",
        "    else:\n",
        "        max_len = max(5,max([len(label) for label in labels]))\n",
        "        print(f\"{'LABEL':<{max_len}} | {'VALUE':>5}\")\n",
        "        for label, val in labels.items():\n",
        "            print(f\"{label:<{max_len}} | {val:>5}\")\n",
        "\n",
        "\n",
        "\n",
        "inst_asm = [] # list to store instructions\n",
        "labels   = [] # list to store labels\n",
        "\n",
        "## reads assembly code and stores it in list of lists 'inst_asm' where axis 0 (rows) corresponds\n",
        "## to each line in the file and axis 1 (columns) corresponds to each argument in that instruction\n",
        "filename = \"example.asm\"\n",
        "inst_asm = read(filename)\n",
        "print_asm_inst(inst_asm)"
      ]
    },
    {
      "cell_type": "markdown",
      "metadata": {
        "id": "dMtGmNoVv8qf"
      },
      "source": [
        "## **Task 1**\n",
        "Implement a function to remove comments\n",
        "\n",
        "_Note:_ A comment in assembly code starts with a '#' symbol. You are required to remove all comments from the code. (_Hint:_ Use Regular expressions)"
      ]
    },
    {
      "cell_type": "code",
      "execution_count": null,
      "metadata": {
        "trusted": true,
        "colab": {
          "base_uri": "https://localhost:8080/"
        },
        "id": "FjMbE5Xcv8qg",
        "outputId": "2d2c082e-7abe-4af9-e9cc-b4aa6b968ae5"
      },
      "outputs": [
        {
          "output_type": "stream",
          "name": "stdout",
          "text": [
            "Assembly Instructions:\n",
            "\n",
            "\n",
            "main:\n",
            "\n",
            "    lw   t3, 0(s1)\n",
            "\n",
            "    addi a0, zero, 550   \n",
            "\n",
            "    addi a1, zero, 20    \n",
            "\n",
            "    addi t0, zero, 0   \n",
            "\n",
            "    beq  a0, zero, done  \n",
            "\n",
            "    beq  a1, zero, done  \n",
            "\n",
            "loop:\n",
            "\n",
            "    add  t0, a0, t0      \n",
            "\n",
            "    addi a1, a1, -1\n",
            "\n",
            "    bne  a1, zero, loop\n",
            "\n",
            "done:\n",
            "\n",
            "    add  a0, t0, zero\n",
            "\n",
            "    sw   a0, 0(s1)\n",
            "\n"
          ]
        }
      ],
      "source": [
        "def remove_comments(inst_asm):\n",
        "    # -- enter your code here\n",
        "    '''Removes comments from assembly instructions while keeping empty lines'''\n",
        "    cleaned_asm = []\n",
        "    comment_pattern = re.compile(r'#.*')  # Regular expression to match comments\n",
        "\n",
        "    for line in inst_asm:\n",
        "        # Remove comments from the line\n",
        "        cleaned_line = re.sub(comment_pattern, '', line)\n",
        "        # Append the line to the cleaned list; this includes lines that become empty after removing comments\n",
        "        cleaned_asm.append(cleaned_line)\n",
        "\n",
        "    return cleaned_asm\n",
        "    # -- end your code here\n",
        "\n",
        "## -- check your output by uncommenting the lines below -- ##\n",
        "inst_asm = remove_comments(inst_asm)\n",
        "print_asm_inst(inst_asm)"
      ]
    },
    {
      "cell_type": "markdown",
      "metadata": {
        "id": "rNMJBbm5v8qg"
      },
      "source": [
        "## **Task 2**\n",
        "Implement a function to split each line (instruction or label) into separate arguments\n",
        "\n",
        "_Note:_ Using `inst_asm` list as input, split each line into separate arguments. Possible delimiters can be space, comma, parantheses. (_Hint:_ Use Regular expressions)\n",
        "\n",
        "_Example:_\n",
        "\n",
        "**addi a1, a2, 10**\n",
        "\n",
        "changes to:\n",
        "\n",
        "**['addi', 'a1', 'a2', '10']**\n",
        "\n",
        "\n"
      ]
    },
    {
      "cell_type": "code",
      "execution_count": null,
      "metadata": {
        "trusted": true,
        "colab": {
          "base_uri": "https://localhost:8080/"
        },
        "id": "39NZjqmyv8qh",
        "outputId": "ac8fc39b-87b3-474b-91ad-9d4f60a1cc92"
      },
      "outputs": [
        {
          "output_type": "stream",
          "name": "stdout",
          "text": [
            "Assembly Instructions:\n",
            "[]\n",
            "['main:']\n",
            "['lw', 't3', '0', 's1']\n",
            "['addi', 'a0', 'zero', '550']\n",
            "['addi', 'a1', 'zero', '20']\n",
            "['addi', 't0', 'zero', '0']\n",
            "['beq', 'a0', 'zero', 'done']\n",
            "['beq', 'a1', 'zero', 'done']\n",
            "['loop:']\n",
            "['add', 't0', 'a0', 't0']\n",
            "['addi', 'a1', 'a1', '-1']\n",
            "['bne', 'a1', 'zero', 'loop']\n",
            "['done:']\n",
            "['add', 'a0', 't0', 'zero']\n",
            "['sw', 'a0', '0', 's1']\n"
          ]
        }
      ],
      "source": [
        "def split_arg(inst_asm):\n",
        "    # -- enter your code here\n",
        "    '''Splits each assembly instruction into separate arguments'''\n",
        "    split_asm = []\n",
        "    # Define a regular expression pattern to match spaces, commas, or parentheses\n",
        "    arg_pattern = re.compile(r'\\s+|,|\\(|\\)')\n",
        "\n",
        "    for line in inst_asm:\n",
        "        # Split the line by the defined delimiters and filter out any empty strings\n",
        "        args = list(filter(None, re.split(arg_pattern, line)))\n",
        "        split_asm.append(args)\n",
        "\n",
        "    return split_asm\n",
        "    # -- end your code here\n",
        "\n",
        "## -- check your output by uncommenting the lines below -- ##\n",
        "inst_asm = split_arg(inst_asm)\n",
        "print_asm_inst(inst_asm)"
      ]
    },
    {
      "cell_type": "markdown",
      "metadata": {
        "id": "BIgItmAlv8qj"
      },
      "source": [
        "## **Task 3**\n",
        "Implement a function to remove empty lines\n",
        "\n",
        "_Note:_ Using `inst_asm` list as input, remove all the empty lists"
      ]
    },
    {
      "cell_type": "code",
      "execution_count": null,
      "metadata": {
        "trusted": true,
        "colab": {
          "base_uri": "https://localhost:8080/"
        },
        "id": "WlhnonsQv8qj",
        "outputId": "5a87c4b0-929d-46ac-f359-f67943b8b5f9"
      },
      "outputs": [
        {
          "output_type": "stream",
          "name": "stdout",
          "text": [
            "Assembly Instructions:\n",
            "['start:']\n",
            "['lw', 't2', '0', 's1']\n",
            "['addi', 'a0', 'zero', '10']\n",
            "['addi', 'a1', 'zero', '20']\n",
            "['bge', 'a0', 'a1', 'done']\n",
            "['add', 'a2', 'a1', 'zero']\n",
            "['jal', 'ra', 'exit']\n",
            "['done:']\n",
            "['add', 'a2', 'a0', 'zero']\n",
            "['jal', 'ra', 'exit']\n",
            "['exit:']\n",
            "['sw', 'a0', '0', 's1']\n"
          ]
        }
      ],
      "source": [
        "def remove_empty(inst_asm):\n",
        "    # -- enter your code here\n",
        "\n",
        "    '''Removes all the empty lists from the list of assembly instructions'''\n",
        "    # Use a list comprehension to filter out any empty lists\n",
        "    cleaned_asm = [inst for inst in inst_asm if inst]\n",
        "\n",
        "    return cleaned_asm\n",
        "    # -- end your code here\n",
        "\n",
        "## -- check your output by uncommenting the lines below -- ##\n",
        "inst_asm = remove_empty(inst_asm)\n",
        "print_asm_inst(inst_asm)"
      ]
    },
    {
      "cell_type": "markdown",
      "metadata": {
        "id": "WFTbZW-ev8qk"
      },
      "source": [
        "## **Task 4**\n",
        "Implement a function to reoder arguments for load/save instructions\n",
        "\n",
        "_Note:_ Load and save follow different instruction formats. Therefore, their arguments need to be re-ordered:\n",
        "\n",
        "_Example:_ For `load` instructions -\n",
        "\n",
        "**[instruction, rd, imm, rs1]**\n",
        "\n",
        "should be changed to the following standard format:\n",
        "\n",
        "**[instruction, rd, rs1, imm]**\n",
        "\n",
        "_Example:_ For `store` instructions -\n",
        "\n",
        "**[instruction, rs1, imm, rd]**\n",
        "\n",
        "should be changed to the following standard format:\n",
        "\n",
        "**[instruction, rd, rs1, imm]**"
      ]
    },
    {
      "cell_type": "code",
      "execution_count": null,
      "metadata": {
        "trusted": true,
        "colab": {
          "base_uri": "https://localhost:8080/"
        },
        "id": "wQFKk4t3v8qk",
        "outputId": "dad38195-2a1b-4689-de41-e7a93980b432"
      },
      "outputs": [
        {
          "output_type": "stream",
          "name": "stdout",
          "text": [
            "Assembly Instructions:\n",
            "['start:']\n",
            "['lw', 't2', 's1', '0']\n",
            "['addi', 'a0', 'zero', '10']\n",
            "['addi', 'a1', 'zero', '20']\n",
            "['bge', 'a0', 'a1', 'done']\n",
            "['add', 'a2', 'a1', 'zero']\n",
            "['jal', 'ra', 'exit']\n",
            "['done:']\n",
            "['add', 'a2', 'a0', 'zero']\n",
            "['jal', 'ra', 'exit']\n",
            "['exit:']\n",
            "['sw', 's1', 'a0', '0']\n"
          ]
        }
      ],
      "source": [
        "def loadsave_arg_reorder(inst_asm):\n",
        "    # -- enter your code here\n",
        "    '''Reorders arguments for load and save instructions to a standard format'''\n",
        "    reordered_asm = []\n",
        "    # Define patterns for load and save instructions for identification\n",
        "    load_pattern = ['lb', 'lh', 'lw', 'lbu', 'lhu']  # Add more as needed\n",
        "    save_pattern = ['sb', 'sh', 'sw']  # Add more as needed\n",
        "\n",
        "    for inst in inst_asm:\n",
        "        # Skip labels and other non-instruction lines\n",
        "        if len(inst) < 2 or ':' in inst[0]:\n",
        "            reordered_asm.append(inst)\n",
        "            continue\n",
        "\n",
        "        if inst[0] in load_pattern:\n",
        "            # Load instruction format is already [instruction, rd, imm, rs1]\n",
        "            # Just need to reorder imm and rs1\n",
        "            reordered_inst = [inst[0], inst[1], inst[3], inst[2]]\n",
        "        elif inst[0] in save_pattern:\n",
        "            # Store instruction format is [instruction, rs1, imm, rd]\n",
        "            # Need to reorder to [instruction, rd, rs1, imm]\n",
        "            reordered_inst = [inst[0], inst[3], inst[1], inst[2]]\n",
        "        else:\n",
        "            # For other instructions, keep the original format\n",
        "            reordered_inst = inst\n",
        "\n",
        "        reordered_asm.append(reordered_inst)\n",
        "\n",
        "    return reordered_asm\n",
        "    # -- end your code here\n",
        "\n",
        "## -- check your output by uncommenting the lines below -- ##\n",
        "inst_asm = loadsave_arg_reorder(inst_asm)\n",
        "print_asm_inst(inst_asm)"
      ]
    },
    {
      "cell_type": "markdown",
      "metadata": {
        "id": "9nL0hiCcv8ql"
      },
      "source": [
        "## **Task 5**\n",
        "Implement a function to separate labels from instructions and save their equivalent value\n",
        "\n",
        "_Note:_ Using `inst_asm` list as input, remove all lines that contain just labels to get the resulting list of only instructions. For the removed labels, calculate their equivalent address and store them in a dictionary called `labels`, where key will be the 'label name' and value will be its equivalent 'address'. Assume that first instruction is stored at address 0 and every instruction requires 4 bytes, therefore, the second instruction will be at address 4, third instruction will be at address 8 and so on. Also, a labels address is same as the address of its first instruction."
      ]
    },
    {
      "cell_type": "code",
      "execution_count": null,
      "metadata": {
        "trusted": true,
        "colab": {
          "base_uri": "https://localhost:8080/"
        },
        "id": "-wnMdg-Uv8qm",
        "outputId": "3da25308-d223-4042-dc7f-3d5bb75b9a79"
      },
      "outputs": [
        {
          "output_type": "stream",
          "name": "stdout",
          "text": [
            "Assembly Instructions:\n",
            "['lw', 't2', 's1', '0']\n",
            "['addi', 'a0', 'zero', '10']\n",
            "['addi', 'a1', 'zero', '20']\n",
            "['bge', 'a0', 'a1', 'done']\n",
            "['add', 'a2', 'a1', 'zero']\n",
            "['jal', 'ra', 'exit']\n",
            "['add', 'a2', 'a0', 'zero']\n",
            "['jal', 'ra', 'exit']\n",
            "['sw', 's1', 'a0', '0']\n",
            "------------------------------\n",
            "Assembly Labels:\n",
            "LABEL | VALUE\n",
            "start |     0\n",
            "done  |    24\n",
            "exit  |    32\n"
          ]
        }
      ],
      "source": [
        "def seperate_labels(inst_asm):\n",
        "    labels = dict() # dictionary to store the label name and its equivalent address as a key-value pair\n",
        "    # -- enter your code here\n",
        "    instructions = []  # List to store instructions without labels\n",
        "    address = 0  # Initial address for the first instruction\n",
        "\n",
        "    for inst in inst_asm:\n",
        "        if len(inst) == 1 and inst[0].endswith(':'):  # Check if the line is a label\n",
        "            label = inst[0].rstrip(':')  # Remove the colon from the label name\n",
        "            labels[label] = address  # Assign the current address to the label\n",
        "        else:\n",
        "            instructions.append(inst)  # Add the line to the list of instructions\n",
        "            address += 4  # Increment the address for the next instruction\n",
        "\n",
        "    return instructions, labels\n",
        "\n",
        "    # -- end your code here\n",
        "\n",
        "## -- check your output by uncommenting the lines below -- ##\n",
        "inst_asm, labels = seperate_labels(inst_asm)\n",
        "print_asm_inst(inst_asm)\n",
        "print('-'*30)\n",
        "print_asm_labels(labels)"
      ]
    },
    {
      "cell_type": "markdown",
      "metadata": {
        "id": "HEGp7qmEv8qn"
      },
      "source": [
        "## **Task 6**\n",
        "Implement a function to replace all integers in string format to `int` data type\n",
        "\n",
        "_Note:_ Using `inst_asm` list as input, find integers in each instruction and change their data type from `string` to `int`"
      ]
    },
    {
      "cell_type": "code",
      "execution_count": null,
      "metadata": {
        "trusted": true,
        "colab": {
          "base_uri": "https://localhost:8080/"
        },
        "id": "BNw4b6QTv8qo",
        "outputId": "8ab9cca6-d710-44c3-c6d7-84a5794568c6"
      },
      "outputs": [
        {
          "output_type": "stream",
          "name": "stdout",
          "text": [
            "Assembly Instructions:\n",
            "['lw', 't2', 's1', 0]\n",
            "['addi', 'a0', 'zero', 10]\n",
            "['addi', 'a1', 'zero', 20]\n",
            "['bge', 'a0', 'a1', 'done']\n",
            "['add', 'a2', 'a1', 'zero']\n",
            "['jal', 'ra', 'exit']\n",
            "['add', 'a2', 'a0', 'zero']\n",
            "['jal', 'ra', 'exit']\n",
            "['sw', 's1', 'a0', 0]\n",
            "------------------------------\n",
            "Assembly Labels:\n",
            "LABEL | VALUE\n",
            "start |     0\n",
            "done  |    24\n",
            "exit  |    32\n"
          ]
        }
      ],
      "source": [
        "def replace_string_int(inst_asm):\n",
        "    # -- enter your code here\n",
        "    for i, inst in enumerate(inst_asm):\n",
        "        for j, arg in enumerate(inst):\n",
        "            if arg.lstrip('-').isdigit():  # Check if the argument represents an integer\n",
        "                inst_asm[i][j] = int(arg)  # Convert to int and replace in the instruction\n",
        "\n",
        "    return inst_asm\n",
        "    # -- end your code here\n",
        "\n",
        "## -- check your output by uncommenting the lines below -- ##\n",
        "inst_asm = replace_string_int(inst_asm)\n",
        "print_asm_inst(inst_asm)\n",
        "print('-'*30)\n",
        "print_asm_labels(labels)"
      ]
    },
    {
      "cell_type": "markdown",
      "metadata": {
        "id": "WHL4vAjtv8qp"
      },
      "source": [
        "## **Task 7**\n",
        "Implement a function to replace all the labels in instructions to their equivalent values\n",
        "\n",
        "_Note:_ Using `inst_asm` list as input, find labels in each instruction and replace them with their equivalent value.\n",
        "\n",
        "_Example:_ If there is an instruction **['bge', 'a0', 'a1', 'done']** at address 8 and label `done` is at address 20 (as calculated from Task 5), then the resulting instruction will be **['bge', 'a0', 'a1', 12]**"
      ]
    },
    {
      "cell_type": "code",
      "execution_count": null,
      "metadata": {
        "trusted": true,
        "colab": {
          "base_uri": "https://localhost:8080/"
        },
        "id": "dOW-XNBzv8qq",
        "outputId": "0ccfa629-8980-49e9-b640-ff72be516ef5"
      },
      "outputs": [
        {
          "output_type": "stream",
          "name": "stdout",
          "text": [
            "Assembly Instructions:\n",
            "['lw', 't2', 's1', 0]\n",
            "['addi', 'a0', 'zero', 10]\n",
            "['addi', 'a1', 'zero', 20]\n",
            "['bge', 'a0', 'a1', 12]\n",
            "['add', 'a2', 'a1', 'zero']\n",
            "['jal', 'ra', 12]\n",
            "['add', 'a2', 'a0', 'zero']\n",
            "['jal', 'ra', 4]\n",
            "['sw', 's1', 'a0', 0]\n",
            "------------------------------\n",
            "Assembly Labels:\n",
            "LABEL | VALUE\n",
            "start |     0\n",
            "done  |    24\n",
            "exit  |    32\n"
          ]
        }
      ],
      "source": [
        "def replace_labels(inst_asm, labels):\n",
        "    # -- enter your code here\n",
        "    updated_asm = []  # List to store updated instructions\n",
        "    instruction_address = 0  # Initial address of the first instruction\n",
        "\n",
        "    for inst in inst_asm:\n",
        "        updated_inst = inst[:]  # Create a copy of the current instruction to modify\n",
        "        if inst[-1] in labels:  # Check if the last argument is a label\n",
        "            label_address = labels[inst[-1]]  # Get the address of the label\n",
        "            relative_address = label_address - instruction_address  # Calculate relative address\n",
        "            updated_inst[-1] = relative_address  # Replace the label with its relative address\n",
        "        updated_asm.append(updated_inst)\n",
        "        instruction_address += 4  # Increment the address for the next instruction\n",
        "\n",
        "    return updated_asm\n",
        "    # -- end your code here\n",
        "\n",
        "## -- check your output by uncommenting the lines below -- ##\n",
        "inst_asm = replace_labels(inst_asm, labels)\n",
        "print_asm_inst(inst_asm)\n",
        "print('-'*30)\n",
        "print_asm_labels(labels)"
      ]
    },
    {
      "cell_type": "markdown",
      "metadata": {
        "id": "dC-ZJ_Wgv8qr"
      },
      "source": [
        "## **Task 8**\n",
        "Implement a function to replace all the register names with their equivalent values\n",
        "\n",
        "_Note:_ Use the function `get_reg_value()`, already implemented for you to replace register names with their equivalent values"
      ]
    },
    {
      "cell_type": "code",
      "execution_count": null,
      "metadata": {
        "trusted": true,
        "id": "cO-WvDEnv8qs",
        "colab": {
          "base_uri": "https://localhost:8080/"
        },
        "outputId": "d6d7efed-3ed8-453b-b524-af8fb3249eda"
      },
      "outputs": [
        {
          "output_type": "stream",
          "name": "stdout",
          "text": [
            "Assembly Instructions:\n",
            "['lw', 7, 9, 0]\n",
            "['addi', 10, 0, 10]\n",
            "['addi', 11, 0, 20]\n",
            "['bge', 10, 11, 12]\n",
            "['add', 12, 11, 0]\n",
            "['jal', 1, 12]\n",
            "['add', 12, 10, 0]\n",
            "['jal', 1, 4]\n",
            "['sw', 9, 10, 0]\n",
            "------------------------------\n",
            "Assembly Labels:\n",
            "LABEL | VALUE\n",
            "start |     0\n",
            "done  |    24\n",
            "exit  |    32\n"
          ]
        }
      ],
      "source": [
        "def replace_reg(inst_asm):\n",
        "    # -- enter your code here\n",
        "    updated_asm = []  # List to store updated instructions\n",
        "\n",
        "    for inst in inst_asm:\n",
        "        updated_inst = []  # List to store the updated instruction\n",
        "        for arg in inst:\n",
        "            if isinstance(arg, str):  # Check if the argument is a string\n",
        "                try:\n",
        "                    # Attempt to replace register names with their equivalent values\n",
        "                    reg_value = get_reg_value(arg)\n",
        "                    updated_inst.append(reg_value)\n",
        "                except ValueError:\n",
        "                    # If it's not a register name, keep the original argument\n",
        "                    updated_inst.append(arg)\n",
        "            else:\n",
        "                # If the argument is not a string, it's already an int or another type, so keep it as is\n",
        "                updated_inst.append(arg)\n",
        "        updated_asm.append(updated_inst)\n",
        "\n",
        "    return updated_asm\n",
        "\n",
        "    # -- end your code here\n",
        "\n",
        "## -- check your output by uncommenting the lines below -- ##\n",
        "inst_asm = replace_reg(inst_asm)\n",
        "print_asm_inst(inst_asm)\n",
        "print('-'*30)\n",
        "print_asm_labels(labels)"
      ]
    },
    {
      "cell_type": "markdown",
      "metadata": {
        "id": "Q43BQpNLv8qu"
      },
      "source": [
        "## **Task 9**\n",
        "Implement a function to save the processed assembly code to a `.txt` file"
      ]
    },
    {
      "cell_type": "code",
      "execution_count": null,
      "metadata": {
        "trusted": true,
        "id": "vMVz46frv8qu"
      },
      "outputs": [],
      "source": [
        "def save_asm(inst_asm, filename):\n",
        "    # -- enter your code here\n",
        "    with open(filename, 'w') as file:\n",
        "        for inst in inst_asm:\n",
        "            # Convert each instruction's arguments into a string and join them with a space\n",
        "            inst_line = ' '.join(map(str, inst))\n",
        "            file.write(inst_line + '\\n')  # Write the instruction string to the file, followed by a newline\n",
        "\n",
        "    # -- end your code here\n",
        "\n",
        "## -- save your final output to a .txt file by uncommenting the lines below -- ##\n",
        "save_asm(inst_asm, filename[:-4]+\"_out1.txt\")"
      ]
    }
  ],
  "metadata": {
    "kernelspec": {
      "display_name": "Python (Pyodide)",
      "language": "python",
      "name": "python"
    },
    "language_info": {
      "codemirror_mode": {
        "name": "python",
        "version": 3
      },
      "file_extension": ".py",
      "mimetype": "text/x-python",
      "name": "python",
      "nbconvert_exporter": "python",
      "pygments_lexer": "ipython3",
      "version": "3.8"
    },
    "vscode": {
      "interpreter": {
        "hash": "e2e92650d63988db45fc378b227a6e97680a006794df01d5c7777c5215e8a3ec"
      }
    },
    "colab": {
      "provenance": []
    }
  },
  "nbformat": 4,
  "nbformat_minor": 0
}